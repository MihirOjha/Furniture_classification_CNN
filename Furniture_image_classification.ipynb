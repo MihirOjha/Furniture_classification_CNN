{
  "nbformat": 4,
  "nbformat_minor": 0,
  "metadata": {
    "colab": {
      "provenance": []
    },
    "kernelspec": {
      "name": "python3",
      "display_name": "Python 3"
    },
    "language_info": {
      "name": "python"
    },
    "gpuClass": "standard",
    "accelerator": "GPU"
  },
  "cells": [
    {
      "cell_type": "markdown",
      "source": [
        "*** This notebook is best viewed in Google Colab ***\n",
        "\n",
        "# Furniture classification using CNN\n",
        "Deep Learning Image Classification by Mihir Ojha\n",
        "\n",
        "March 3, 2023"
      ],
      "metadata": {
        "id": "2obOMFEiCS9v"
      }
    },
    {
      "cell_type": "markdown",
      "source": [
        "Image classification is the task of assigning a label or category to an image. Deep learning has revolutionized the field of image classification by providing highly accurate and efficient methods. Convolutional neural networks (CNNs) are the most popular deep learning approach for image classification. CNNs consist of multiple layers of interconnected neurons that learn to detect different features of the input image, such as edges, shapes, and textures. The final layer of the network produces a probability distribution over the different categories or labels. To train a CNN, a large dataset of labeled images is required. The network is trained by adjusting the weights of its neurons based on the difference between the predicted and actual labels. Once trained, the CNN can classify new images with high accuracy, making it useful for a variety of applications."
      ],
      "metadata": {
        "id": "f8N5ZHYpHXZ3"
      }
    },
    {
      "cell_type": "markdown",
      "source": [
        "This image classification project uses a basic convolutional neural network (CNN) architecture to classify furniture images into three categories: bed, chair, and sofa. The model was implemented in Python using the Keras, and tensorflow library and achieved a relatively high accuracy given the small smaple size. In addition to the model, I also made a Flask API and a Docker image for easy deployment. Further details about the project, including the dataset used and the model architecture, and how to run the docker app can be found my Github page: https://github.com/MihirOjha/Furniture_classification_CNN. \n",
        "\n",
        "The project showcases the effectiveness of CNNs for image classification and demonstrates the ability to build and deploy deep learning models for practical applications."
      ],
      "metadata": {
        "id": "A1FpNvBNISN1"
      }
    },
    {
      "cell_type": "markdown",
      "source": [
        "Table of Contents"
      ],
      "metadata": {
        "id": "3jV9ABavGR7r"
      }
    },
    {
      "cell_type": "markdown",
      "source": [
        ">[Furniture classification using CNN](#scrollTo=2obOMFEiCS9v)\n",
        "\n",
        ">>>[Mounting my google drive](#scrollTo=952U54uZHEkv)\n",
        "\n",
        ">>>[Splitting the data into training, testing, and validation sets](#scrollTo=k3v3hYfHFu_8)\n",
        "\n",
        ">>>[Building the CNN Model Architecture](#scrollTo=6xceVs-PFhrR)\n",
        "\n",
        ">>>[Training the Model](#scrollTo=5bI3S45XFc09)\n",
        "\n",
        ">>>[Evaluating the Model](#scrollTo=dmUfpUlwC_BX)\n",
        "\n",
        ">>>[Making Predictions and generating classification report](#scrollTo=HKBCL46CDHKR)\n",
        "\n",
        ">>>[Saving the model](#scrollTo=iF6_vrfEDdGy)\n",
        "\n",
        ">>>[Final thoughts](#scrollTo=IQoe1wotE9jO)\n",
        "\n"
      ],
      "metadata": {
        "colab_type": "toc",
        "id": "ouAYVZfNG9nP"
      }
    },
    {
      "cell_type": "markdown",
      "source": [
        "### Mounting my google drive"
      ],
      "metadata": {
        "id": "952U54uZHEkv"
      }
    },
    {
      "cell_type": "code",
      "execution_count": null,
      "metadata": {
        "colab": {
          "base_uri": "https://localhost:8080/"
        },
        "id": "YA4Iw4qQnXny",
        "outputId": "6a8ddc84-c3b0-4904-ade1-52b2caf2ff1c"
      },
      "outputs": [
        {
          "output_type": "stream",
          "name": "stdout",
          "text": [
            "Drive already mounted at /content/drive; to attempt to forcibly remount, call drive.mount(\"/content/drive\", force_remount=True).\n"
          ]
        }
      ],
      "source": [
        "from google.colab import drive\n",
        "drive.mount('/content/drive')"
      ]
    },
    {
      "cell_type": "code",
      "source": [
        "# !pip list"
      ],
      "metadata": {
        "id": "qR4dVkU9QKNj"
      },
      "execution_count": null,
      "outputs": []
    },
    {
      "cell_type": "code",
      "source": [
        "import os\n",
        "import shutil\n",
        "import tensorflow as tf\n",
        "import keras\n",
        "from keras.models import Sequential\n",
        "from keras.layers import Dense, Dropout, Flatten, Conv2D, MaxPooling2D\n",
        "from keras.preprocessing.image import ImageDataGenerator\n",
        "import numpy as np\n",
        "import matplotlib.pyplot as plt\n",
        "import seaborn as sns\n",
        "from sklearn.metrics import confusion_matrix, classification_report\n",
        "from tensorflow.keras.callbacks import EarlyStopping\n",
        "from sklearn.model_selection import train_test_split"
      ],
      "metadata": {
        "id": "eYstNx8Y4ugl"
      },
      "execution_count": null,
      "outputs": []
    },
    {
      "cell_type": "code",
      "source": [
        "!unzip '/content/drive/MyDrive/CNN_test/Dataset.zip' -d /content/"
      ],
      "metadata": {
        "colab": {
          "base_uri": "https://localhost:8080/"
        },
        "id": "3nFy_OOOo-TL",
        "outputId": "1d4f9951-a928-44ce-a553-2e737910e444"
      },
      "execution_count": null,
      "outputs": [
        {
          "output_type": "stream",
          "name": "stdout",
          "text": [
            "Archive:  /content/drive/MyDrive/CNN_test/Dataset.zip\n",
            "   creating: /content/Data for test/Bed/\n",
            "  inflating: /content/Data for test/Bed/120cm Bed with underbed drawer.jpg  \n",
            "  inflating: /content/Data for test/Bed/140 cm double bed.jpg  \n",
            "  inflating: /content/Data for test/Bed/160 cm kingsize bed.jpg  \n",
            "  inflating: /content/Data for test/Bed/180 cm super kingsize bed.jpg  \n",
            "  inflating: /content/Data for test/Bed/90cm Bed with underbed drawer.jpg  \n",
            "  inflating: /content/Data for test/Bed/Addison King Bed.jpg  \n",
            "  inflating: /content/Data for test/Bed/Aidan Bed-Heavy Pebble Pewter-Queen.jpg  \n",
            "  inflating: /content/Data for test/Bed/Aidan Bed-Vintage Tobacco-King.jpg  \n",
            "  inflating: /content/Data for test/Bed/Aidan King Bed-Pebble Pewter.jpg  \n",
            "  inflating: /content/Data for test/Bed/Aiden Velvet Bed.jpg  \n",
            "  inflating: /content/Data for test/Bed/ALBI BED.jpg  \n",
            "  inflating: /content/Data for test/Bed/Alexander Queen Bed.jpg  \n",
            "  inflating: /content/Data for test/Bed/Alina Full Platform Bed Frame.jpg  \n",
            "  inflating: /content/Data for test/Bed/Alina Queen Platform Bed Frame.jpg  \n",
            "  inflating: /content/Data for test/Bed/Alina Twin Platform Bed Frame.jpg  \n",
            "  inflating: /content/Data for test/Bed/Amaris Full Fabric Platform Bed with Round Splayed Legs.jpg  \n",
            "  inflating: /content/Data for test/Bed/Amaris King Fabric Platform Bed with Squared Tapered Legs.jpg  \n",
            "  inflating: /content/Data for test/Bed/Amaris Queen Fabric Platform Bed with Round Splayed Legs.jpg  \n",
            "  inflating: /content/Data for test/Bed/Amaris Queen Fabric Platform Bed with Squared Tapered Legs in Gray _ Modway.jpg  \n",
            "  inflating: /content/Data for test/Bed/Amaris Queen Fabric Platform Bed with Squared Tapered Legs.jpg  \n",
            "  inflating: /content/Data for test/Bed/Amaris Twin Fabric Platform Bed with Round Splayed Legs.jpg  \n",
            "  inflating: /content/Data for test/Bed/Amaris Twin Fabric Platform Bed with Squared Tapered Legs.jpg  \n",
            "  inflating: /content/Data for test/Bed/Amelia Full Upholstered Fabric Bed.jpg  \n",
            "  inflating: /content/Data for test/Bed/Amelia King Performance Velvet Bed.jpg  \n",
            "  inflating: /content/Data for test/Bed/Amelia King Upholstered Fabric Bed.jpg  \n",
            "  inflating: /content/Data for test/Bed/Amelia Queen Faux Leather Bed.jpg  \n",
            "  inflating: /content/Data for test/Bed/Amelia Queen Upholstered Bed.jpg  \n",
            "  inflating: /content/Data for test/Bed/Amelia Queen Upholstered Fabric Bed.jpg  \n",
            "  inflating: /content/Data for test/Bed/Amelia Twin Faux Leather Bed.jpg  \n",
            "  inflating: /content/Data for test/Bed/Amelia Twin Performance Velvet Bed.jpg  \n",
            "  inflating: /content/Data for test/Bed/Amelie Bed King Black.jpg  \n",
            "  inflating: /content/Data for test/Bed/Amelie Bed King White.jpg  \n",
            "  inflating: /content/Data for test/Bed/Amelie Bed Queen White.jpg  \n",
            "  inflating: /content/Data for test/Bed/Amelie Full Bed Black.jpg  \n",
            "  inflating: /content/Data for test/Bed/Amelie Full Bed Gray.jpg  \n",
            "  inflating: /content/Data for test/Bed/Amelie Full Bed White.jpg  \n",
            "  inflating: /content/Data for test/Bed/Amelie King Bed Gray.jpg  \n",
            "  inflating: /content/Data for test/Bed/Amelie Queen Bed Black.jpg  \n",
            "  inflating: /content/Data for test/Bed/Amelie Queen Bed Gray.jpg  \n",
            "  inflating: /content/Data for test/Bed/Amira Full Performance Velvet Bed.jpg  \n",
            "  inflating: /content/Data for test/Bed/Amira Full Upholstered Fabric Bed.jpg  \n",
            "  inflating: /content/Data for test/Bed/Amira King Performance Velvet Bed.jpg  \n",
            "  inflating: /content/Data for test/Bed/Amira King Upholstered Fabric Bed.jpg  \n",
            "  inflating: /content/Data for test/Bed/Amira Queen Performance Velvet Bed.jpg  \n",
            "  inflating: /content/Data for test/Bed/Amira Queen Upholstered Fabric Bed.jpg  \n",
            "  inflating: /content/Data for test/Bed/Amira Twin Upholstered Fabric Bed.jpg  \n",
            "  inflating: /content/Data for test/Bed/Angela Blush Bed in Queen.jpg  \n",
            "  inflating: /content/Data for test/Bed/Annika Queen Platform Bed Annika Queen Platform Bed in Gray.jpg  \n",
            "  inflating: /content/Data for test/Bed/Annika Queen Platform Bed in Brown.jpg  \n",
            "  inflating: /content/Data for test/Bed/Annika Queen Platform Bed.jpg  \n",
            "  inflating: /content/Data for test/Bed/Anya Beige Queen Bed.jpg  \n",
            "  inflating: /content/Data for test/Bed/Anya Full Bed.jpg  \n",
            "  inflating: /content/Data for test/Bed/Anya Full Fabric Bed in Beige.jpg  \n",
            "  inflating: /content/Data for test/Bed/Anya Full Fabric Bed in Light Gray .jpg  \n",
            "  inflating: /content/Data for test/Bed/Anya Full Fabric Bed in Light Gray.jpg  \n",
            "  inflating: /content/Data for test/Bed/Anya Full Fabric Bed.jpg  \n",
            "  inflating: /content/Data for test/Bed/Anya Queen Bed in Gray.jpg  \n",
            "  inflating: /content/Data for test/Bed/Anya Queen Bed.jpg  \n",
            "  inflating: /content/Data for test/Bed/Anya Twin Bed.jpg  \n",
            "  inflating: /content/Data for test/Bed/Arwen Queen Rustic Wood Bed.jpg  \n",
            "  inflating: /content/Data for test/Bed/Ashland Queen Faux Leather Platform Bed.jpg  \n",
            "  inflating: /content/Data for test/Bed/Astra Queen Wood Platform Bed .jpg  \n",
            "  inflating: /content/Data for test/Bed/Aubree Grey Queen Bed.jpg  \n",
            "  inflating: /content/Data for test/Bed/Aubree Queen Bed.jpg  \n",
            "  inflating: /content/Data for test/Bed/Aubree Queen Upholstered Fabric Sleigh Platform Bed.jpg  \n",
            "  inflating: /content/Data for test/Bed/Aubree Queen Upholstered Platform Bed in Beige.jpg  \n",
            "  inflating: /content/Data for test/Bed/August King Bed.jpg  \n",
            "  inflating: /content/Data for test/Bed/aura.jpg  \n",
            "  inflating: /content/Data for test/Bed/Baxton Studio Adela Modern and Contemporary Grey Finished Wood Queen Size Platform Bed.jpg  \n",
            "  inflating: /content/Data for test/Bed/Baxton Studio Adela Modern and Contemporary Grey Finished Wood Twin Size Platform Bed.jpg  \n",
            "  inflating: /content/Data for test/Bed/Baxton Studio Adelaide Retro Modern Light Beige Fabric Upholstered Queen Size Platform Bed.jpg  \n",
            "  inflating: /content/Data for test/Bed/Baxton Studio Adelaide Retro Modern Light Grey Fabric Upholstered Queen Size Platform Bed.jpg  \n",
            "  inflating: /content/Data for test/Bed/Baxton Studio Adelia Mid-Century Light Beige Whitewash Queen Size Platform Bed.jpg  \n",
            "  inflating: /content/Data for test/Bed/Baxton Studio Adelie Modern Glam Light Grey Velvet Fabric Upholstered Walnut Brown Finished Wood Queen Size Wingback Platform Bed .jpg  \n",
            "  inflating: /content/Data for test/Bed/Baxton Studio Aden Modern and Contemporary Charcoal Grey Fabric Upholstered Full Size Bed.jpg  \n",
            "  inflating: /content/Data for test/Bed/Baxton Studio Aden Modern and Contemporary Grey Fabric Upholstered Queen Size Bed.jpg  \n",
            "  inflating: /content/Data for test/Bed/Baxton Studio Ainge Contemporary Button-Tufted Light Beige Fabric Upholstered Storage King-Size Bed with 2-drawer.jpg  \n",
            "  inflating: /content/Data for test/Bed/Baxton Studio Alba Modern Transitional Ash Walnut Brown Finished Wood Full Size 4-Drawer Platform Storage Bed with Built-In Shelves.jpg  \n",
            "  inflating: /content/Data for test/Bed/Baxton Studio Alba Modern Transitional Ash Walnut Brown Finished Wood King Size 4-Drawer Platform Storage Bed with Built-In Shelves.jpg  \n",
            "  inflating: /content/Data for test/Bed/Baxton Studio Alesha Modern and Contemporary Beige Fabric Upholstered Queen Size Bed.jpg  \n",
            "  inflating: /content/Data for test/Bed/Baxton Studio Alesha Modern and Contemporary Charcoal Grey Fabric Upholstered Queen Size Bed.jpg  \n",
            "  inflating: /content/Data for test/Bed/Baxton Studio Alesha Modern and Contemporary Grey Fabric Upholstered Full Size Bed.jpg  \n",
            "  inflating: /content/Data for test/Bed/Baxton Studio Alessia Dark Brown Faux Leather Upholstered Daybed with Guest Trundle Bed.jpg  \n",
            "  inflating: /content/Data for test/Bed/Baxton Studio Alessia Modern and Contemporary Beige Fabric Upholstered Daybed with Guest Trundle Bed.jpg  \n",
            "  inflating: /content/Data for test/Bed/Baxton Studio Alessia Modern and Contemporary Grey Fabric Upholstered Daybed with Guest Trundle Bed.jpg  \n",
            "  inflating: /content/Data for test/Bed/Baxton Studio Alessia White Faux Leather Upholstered Daybed with Guest Trundle Bed.jpg  \n",
            "  inflating: /content/Data for test/Bed/Baxton Studio Alinia Mid-century Retro Modern Grey Fabric Upholstered Walnut Wood King Size Platform Bed.jpg  \n",
            "  inflating: /content/Data for test/Bed/Baxton Studio Alinia Mid-century Retro Modern Light Beige Fabric Upholstered Walnut Wood King Size Platform Bed.jpg  \n",
            "  inflating: /content/Data for test/Bed/Baxton Studio Alke Mid-Century Modern Dark Grey Fabric Upholstered Walnut Brown Finished Wood Queen Size Platform Bed.jpg  \n",
            "  inflating: /content/Data for test/Bed/Baxton Studio Alke Mid-Century Modern Light Grey Fabric Upholstered Walnut Brown Finished Wood King Size Platform Bed.jpg  \n",
            "  inflating: /content/Data for test/Bed/Baxton Studio Allegra Mid-Century Modern Dark Grey Fabric Upholstered and Ash Walnut Brown Finished Wood King Size Platform Bed.jpg  \n",
            "  inflating: /content/Data for test/Bed/Baxton Studio Alya Classic Traditional Farmhouse Walnut Brown Finished Wood Twin Size Daybed with Roll-Out Trundle Bed.jpg  \n",
            "  inflating: /content/Data for test/Bed/Baxton Studio Alya Classic Traditional Farmhouse White Finished Wood Twin Size Daybed with Roll-Out Trundle Bed.jpg  \n",
            "  inflating: /content/Data for test/Bed/Baxton Studio Aneta Modern and Contemporary Grey Fabric Upholstered King Size Platform Bed.jpg  \n",
            "  inflating: /content/Data for test/Bed/Baxton Studio Annalisa Modern Transitional Beige Fabric Upholstered Button Tufted King Size Panel Bed.jpg  \n",
            "  inflating: /content/Data for test/Bed/Bed Venla 160 x 200 cm blue.jpg  \n",
            "  inflating: /content/Data for test/Bed/Darcy Luxe and Glamour Dark Grey Velvet Upholstered Queen Size Bed.jpg  \n",
            "  inflating: /content/Data for test/Bed/Makenna Queen Performance Velvet Platform Bed.jpg  \n",
            "  inflating: /content/Data for test/Bed/Raina Queen Canopy Bed Frame.jpg  \n",
            "  inflating: /content/Data for test/Bed/Shayndel Bed 150 x 190 cm.jpg  \n",
            "   creating: /content/Data for test/Chair/\n",
            "  inflating: /content/Data for test/Chair/Abner PU Swivel Chair.jpg  \n",
            "  inflating: /content/Data for test/Chair/Adara Desk Chair-Knoll Natural.jpg  \n",
            "  inflating: /content/Data for test/Chair/ADRIENNE LINEN CHROME LEG SWIVEL OFFICE CHAIR.jpg  \n",
            "  inflating: /content/Data for test/Chair/ADRIENNE VELVET CHROME LEG SWIVEL OFFICE CHAIR.jpg  \n",
            "  inflating: /content/Data for test/Chair/Advance Office Chair.jpg  \n",
            "  inflating: /content/Data for test/Chair/Air Grid and Mesh Office Chair.jpg  \n",
            "  inflating: /content/Data for test/Chair/Airi Office Chair.jpg  \n",
            "  inflating: /content/Data for test/Chair/ALBUS SWIVEL OFFICE CHAIR BLACK.jpg  \n",
            "  inflating: /content/Data for test/Chair/ALBUS SWIVEL OFFICE CHAIR BLUE.jpg  \n",
            "  inflating: /content/Data for test/Chair/Alexa Desk Chair-Savile Flax.jpg  \n",
            "  inflating: /content/Data for test/Chair/Allen Molded PC Office Chair.jpg  \n",
            "  inflating: /content/Data for test/Chair/Allison Bungie Flat High Back Office Chair.jpg  \n",
            "  inflating: /content/Data for test/Chair/Allison Bungie Flat Low Back Office Chair.jpg  \n",
            "  inflating: /content/Data for test/Chair/Allison Bungie Low Back Office Chair.jpg  \n",
            "  inflating: /content/Data for test/Chair/Alpha Office Chair.jpg  \n",
            "  inflating: /content/Data for test/Chair/AMBER DESK CHAIR.jpg  \n",
            "  inflating: /content/Data for test/Chair/Amber Desk Chair-Distressed Brown.jpg  \n",
            "  inflating: /content/Data for test/Chair/Amber Desk Chair-Savile Flax.jpg  \n",
            "  inflating: /content/Data for test/Chair/Amelia Office Chair.jpg  \n",
            "  inflating: /content/Data for test/Chair/Amish Dining Wood Armchair in Black .jpg  \n",
            "  inflating: /content/Data for test/Chair/Amish Dining Wood Armchair in White .jpg  \n",
            "  inflating: /content/Data for test/Chair/AMY TUFTED LINEN CHROME LEG SWIVEL OFFICE CHAIR.jpg  \n",
            "  inflating: /content/Data for test/Chair/AMY TUFTED VELVET CHROME LEG SWIVEL OFFICE CHAIR.jpg  \n",
            "  inflating: /content/Data for test/Chair/Andrew Office Chair.jpg  \n",
            "  inflating: /content/Data for test/Chair/ANGEL Dining Chair.jpg  \n",
            "  inflating: /content/Data for test/Chair/Archer Executive Chair.jpg  \n",
            "  inflating: /content/Data for test/Chair/Ardor Office Chair in Black .jpg  \n",
            "  inflating: /content/Data for test/Chair/Ardor Office Chair.jpg  \n",
            "  inflating: /content/Data for test/Chair/Ariel Desk Chair.jpg  \n",
            "  inflating: /content/Data for test/Chair/Armen Living Bellevue Mid-Century Office Chair in Chrome Finish with Black Faux Leather and Walnut Veneer.jpg  \n",
            "  inflating: /content/Data for test/Chair/Armen Living Bellevue Mid-Century Office Chair in Chrome Finish with Grey Faux Leather and Walnut Veneer.jpg  \n",
            "  inflating: /content/Data for test/Chair/Armen Living Bowie Mid-Century Office Chair in Chrome finish with Black Faux Leather and Walnut Veneer Back.jpg  \n",
            "  inflating: /content/Data for test/Chair/Armen Living Century Office Chair with Multifunctional Mechanism in Chrome finish with Black Faux Leather and Walnut Veneer Back.jpg  \n",
            "  inflating: /content/Data for test/Chair/Armen Living Daphne Modern Office Chair In Chrome Finish with Black Faux Leather And Walnut Veneer Back.jpg  \n",
            "  inflating: /content/Data for test/Chair/Armen Living Diamond Mid-Century Office Chair in Chrome finish with Tufted Black Faux Leather and Walnut Veneer Back.jpg  \n",
            "  inflating: /content/Data for test/Chair/Armen Living Geneva Mid-Century Office Chair in Chrome finish with Black Faux Leather and Walnut Veneer Arms.jpg  \n",
            "  inflating: /content/Data for test/Chair/Armen Living Geneva Mid-Century Office Chair in Chrome finish with Gray Faux Leather and Walnut Veneer Arms.jpg  \n",
            "  inflating: /content/Data for test/Chair/Armen Living Julian Modern Office Chair In Chrome Finish with Black Faux Leather And Walnut Veneer Back.jpg  \n",
            "  inflating: /content/Data for test/Chair/Armen Living Santiago Mid-Century Office Chair in Black Faux Leather with Walnut Wood Finish.jpg  \n",
            "  inflating: /content/Data for test/Chair/Armen Living Truly Contemporary Swivel Chair in Grey Velvet and Black Velvet Piping.jpg  \n",
            "  inflating: /content/Data for test/Chair/Armen Living Wallace Mid-Century Office Chair in Chrome finish with Black Faux Leather and Walnut Veneer Back.jpg  \n",
            "  inflating: /content/Data for test/Chair/Arrow Swivel Chair-Dobie Ecru.jpg  \n",
            "  inflating: /content/Data for test/Chair/Articulate Drafting Chair.jpg  \n",
            "  inflating: /content/Data for test/Chair/Articulate Mesh Office Chair.jpg  \n",
            "  inflating: /content/Data for test/Chair/Articulate Vinyl Office Chair.jpg  \n",
            "  inflating: /content/Data for test/Chair/Arya KD Fabric Swivel Chair.jpg  \n",
            "  inflating: /content/Data for test/Chair/Arya KD Top Grain Leather Swivel Chair.jpg  \n",
            "  inflating: /content/Data for test/Chair/Ascend Mid Back Office Chair.jpg  \n",
            "  inflating: /content/Data for test/Chair/Assert Mesh Drafting Chair.jpg  \n",
            "  inflating: /content/Data for test/Chair/Assert Mesh Office Chair.jpg  \n",
            "  inflating: /content/Data for test/Chair/Attainment Office Chair.jpg  \n",
            "  inflating: /content/Data for test/Chair/Attainment Vinyl Drafting Chair.jpg  \n",
            "  inflating: /content/Data for test/Chair/Augustine Swivel Chair-Deacon Wolf.jpg  \n",
            "  inflating: /content/Data for test/Chair/Augustine Swivel Chair-Dover Crescent.jpg  \n",
            "  inflating: /content/Data for test/Chair/Augustine Swivel Chair-Hudson Lager.jpg  \n",
            "  inflating: /content/Data for test/Chair/Augustine Swivel Chair-Orly Natural.jpg  \n",
            "  inflating: /content/Data for test/Chair/Augustine Swivel Chair-Sapphire Navy.jpg  \n",
            "  inflating: /content/Data for test/Chair/Axel High Back Office Chair.jpg  \n",
            "  inflating: /content/Data for test/Chair/Axel Low Back Office Chair.jpg  \n",
            "  inflating: /content/Data for test/Chair/Baba Flat High Back Office Chair.jpg  \n",
            "  inflating: /content/Data for test/Chair/Banks Swivel Chair-Cambric Ivory.jpg  \n",
            "  inflating: /content/Data for test/Chair/Banks Swivel Chair-Rider Black.jpg  \n",
            "  inflating: /content/Data for test/Chair/Banks Swivel Chair-Stonewash Heavy Jute.jpg  \n",
            "  inflating: /content/Data for test/Chair/Banks Swivel Chair-Umber Grey.jpg  \n",
            "  inflating: /content/Data for test/Chair/Baxton Studio Ambrosio Modern and Contemporary Black Faux Leather Upholstered Chrome-Finished Metal Adjustable Swivel Office Chair.jpg  \n",
            "  inflating: /content/Data for test/Chair/Baxton Studio Baxton Studio Elsa Modern and Contemporary White Faux Leather Upholstered Swivel Chair with Metal Base.jpg  \n",
            "  inflating: /content/Data for test/Chair/Baxton Studio Bruce Modern and Contemporary White and Walnut Office Chair.jpg  \n",
            "  inflating: /content/Data for test/Chair/Baxton Studio Bruce Walnut and Black Modern Office Chair.jpg  \n",
            "  inflating: /content/Data for test/Chair/Baxton Studio Elia Acrylic Swivel Chair.jpg  \n",
            "  inflating: /content/Data for test/Chair/Baxton Studio Maida Mid-Century Modern Light Brown Fabric Upholstered Office Chair.jpg  \n",
            "  inflating: /content/Data for test/Chair/Baxton Studio Micah Modern and Contemporary Beige Fabric Upholstered Tufted Swivel Chair.jpg  \n",
            "  inflating: /content/Data for test/Chair/Baxton Studio Micah Modern and Contemporary Grey Fabric Upholstered Tufted Swivel Chair.jpg  \n",
            "  inflating: /content/Data for test/Chair/Baxton Studio Rathburn Modern and Contemporary White and Walnut Office Chair.jpg  \n",
            "  inflating: /content/Data for test/Chair/Baxton Studio Rathburn Walnut and Black Modern Office Chair.jpg  \n",
            "  inflating: /content/Data for test/Chair/Baxton Studio Rayner Modern and Contemporary Beige Fabric Upholstered Swivel Chair.jpg  \n",
            "  inflating: /content/Data for test/Chair/Baxton Studio Rayner Modern and Contemporary Grey Fabric Upholstered Swivel Chair.jpg  \n",
            "  inflating: /content/Data for test/Chair/Baxton Studio Watson Modern and Contemporary White and Walnut Office Chair.jpg  \n",
            "  inflating: /content/Data for test/Chair/Baxton Studio Watson Walnut and Black Modern Office Chair.jpg  \n",
            "  inflating: /content/Data for test/Chair/Becket Fabric Swivel Chair.jpg  \n",
            "  inflating: /content/Data for test/Chair/Beckett Fabric Swivel Chair.jpg  \n",
            "  inflating: /content/Data for test/Chair/Beckett PU Swivel Chair.jpg  \n",
            "  inflating: /content/Data for test/Chair/BELINDA DESK CHAIR.jpg  \n",
            "  inflating: /content/Data for test/Chair/Belma Low Back Office Chair.jpg  \n",
            "  inflating: /content/Data for test/Chair/Bergen High Back Office Chair.jpg  \n",
            "  inflating: /content/Data for test/Chair/Bergen Low Back Office Chair.jpg  \n",
            "  inflating: /content/Data for test/Chair/BERNARD DESK CHAIR.jpg  \n",
            "  inflating: /content/Data for test/Chair/Big Man_s AirGrid Drafting Chair.jpg  \n",
            "  inflating: /content/Data for test/Chair/Bina High Back Office Chair.jpg  \n",
            "  inflating: /content/Data for test/Chair/Bina Low Back Office Chair.jpg  \n",
            "  inflating: /content/Data for test/Chair/Bonded Leather Executive Chair with Padded Flip Arms and Silver Base.jpg  \n",
            "  inflating: /content/Data for test/Chair/Bonded Leather Executive Chair with.jpg  \n",
            "  inflating: /content/Data for test/Chair/Bonded Leather Executive Chair.jpg  \n",
            "  inflating: /content/Data for test/Chair/Braden Desk Chair-Light Camel.jpg  \n",
            "  inflating: /content/Data for test/Chair/Bradley Bungie Office Chair.jpg  \n",
            "  inflating: /content/Data for test/Chair/Brandon Office Chair.jpg  \n",
            "  inflating: /content/Data for test/Chair/Brice Modern Office Chair in Industrial Grey Finish and Brown Fabric with Pine Wood Arms.jpg  \n",
            "  inflating: /content/Data for test/Chair/Bridgeway Office Chair.jpg  \n",
            "  inflating: /content/Data for test/Chair/Brooklyn High Back Office Chair.jpg  \n",
            "  inflating: /content/Data for test/Chair/Brooklyn Low Back Office Chair.jpg  \n",
            "  inflating: /content/Data for test/Chair/BRUNNER DESK CHAIR.jpg  \n",
            "   creating: /content/Data for test/Sofa/\n",
            "  inflating: /content/Data for test/Sofa/2 Seater Sofa.jpg  \n",
            "  inflating: /content/Data for test/Sofa/3 Seater Sofa.jpg  \n",
            "  inflating: /content/Data for test/Sofa/Abbott 85 Sofa-Cigar.jpg  \n",
            "  inflating: /content/Data for test/Sofa/Activate Upholstered Fabric Sofa and Armchair Set.jpg  \n",
            "  inflating: /content/Data for test/Sofa/Activate Upholstered Fabric Sofa.jpg  \n",
            "  inflating: /content/Data for test/Sofa/Adept Performance Velvet Sofa.jpg  \n",
            "  inflating: /content/Data for test/Sofa/Agile Upholstered Fabric Sofa and Armchair Set.jpg  \n",
            "  inflating: /content/Data for test/Sofa/Agile Upholstered Fabric Sofa.jpg  \n",
            "  inflating: /content/Data for test/Sofa/Alba Lounge Sofa.jpg  \n",
            "  inflating: /content/Data for test/Sofa/Albie Sofa.jpg  \n",
            "  inflating: /content/Data for test/Sofa/Alena Wool Blend Loveseat.jpg  \n",
            "  inflating: /content/Data for test/Sofa/Align Upholstered Fabric Corner Sofa.jpg  \n",
            "  inflating: /content/Data for test/Sofa/Allure 2 Piece Sofa and Armchair Set.jpg  \n",
            "  inflating: /content/Data for test/Sofa/Allure 3 Piece Sofa and Armchair Set.jpg  \n",
            "  inflating: /content/Data for test/Sofa/Allure Upholstered Sofa.jpg  \n",
            "  inflating: /content/Data for test/Sofa/ANDAMAN SOFA.jpg  \n",
            "  inflating: /content/Data for test/Sofa/ANDERS SOFA .jpg  \n",
            "  inflating: /content/Data for test/Sofa/Archer Media Sofa-84.jpg  \n",
            "  inflating: /content/Data for test/Sofa/ARIA.jpg  \n",
            "  inflating: /content/Data for test/Sofa/Arizona Sofa Table.jpg  \n",
            "  inflating: /content/Data for test/Sofa/Armen Living Amanda Black Corner Sofa.jpg  \n",
            "  inflating: /content/Data for test/Sofa/Armen Living Amanda White Corner Sofa.jpg  \n",
            "  inflating: /content/Data for test/Sofa/Armen Living Andre Contemporary Chair In Gray Tweed and Stainless Steel.jpg  \n",
            "  inflating: /content/Data for test/Sofa/Armen Living Andre Contemporary Sofa Chair in Brushed Stainless Steel and Blue Fabric.jpg  \n",
            "  inflating: /content/Data for test/Sofa/Armen Living Andre Contemporary Sofa in Brushed Stainless Steel and Blue Fabric.jpg  \n",
            "  inflating: /content/Data for test/Sofa/Armen Living Andre Contemporary Sofa In Gray Tweed and Stainless Steel.jpg  \n",
            "  inflating: /content/Data for test/Sofa/Armen Living Barrister Chair In Gray Velvet with Black Piping.jpg  \n",
            "  inflating: /content/Data for test/Sofa/Armen Living Barrister Sofa In Black Velvet With Crystal Buttons.jpg  \n",
            "  inflating: /content/Data for test/Sofa/Armen Living Barrister Sofa In Gray Velvet With Black Piping.jpg  \n",
            "  inflating: /content/Data for test/Sofa/Armen Living Cambridge Contemporary Sofa Chair in Brushed Stainless Steel and Dark Grey Velvet.jpg  \n",
            "  inflating: /content/Data for test/Sofa/Armen Living Cambridge Contemporary Sofa in Brushed Stainless Steel and Dark Grey Velvet.jpg  \n",
            "  inflating: /content/Data for test/Sofa/Armen Living Cobra Mid-Century Modern Sofa in Blue Linen and Walnut Legs.jpg  \n",
            "  inflating: /content/Data for test/Sofa/Armen Living Cobra Mid-Century Modern Sofa in Dark Gray Linen and Walnut Legs.jpg  \n",
            "  inflating: /content/Data for test/Sofa/Armen Living Elegance Contemporary Sofa Chair in Grey Velvet with Acrylic Legs.jpg  \n",
            "  inflating: /content/Data for test/Sofa/Armen Living Elegance Contemporary Sofa in Grey Velvet with Acrylic Legs.jpg  \n",
            "  inflating: /content/Data for test/Sofa/Armen Living Element Mid-Century Modern Sofa in Dark Gray Linen and Walnut Legs.jpg  \n",
            "  inflating: /content/Data for test/Sofa/Armen Living Everly Contemporary Chair in Genuine Dove Grey Leather with Brushed Stainless Steel Legs.jpg  \n",
            "  inflating: /content/Data for test/Sofa/Armen Living Everly Contemporary Sofa in Genuine Black Leather with Brushed Stainless Steel Legs.jpg  \n",
            "  inflating: /content/Data for test/Sofa/Armen Living Everly Contemporary Sofa in Genuine Dove Grey Leather with Brushed Stainless Steel Legs.jpg  \n",
            "  inflating: /content/Data for test/Sofa/Armen Living Hope Contemporary Chair in Genuine Dove Grey Leather with Black Metal Legs.jpg  \n",
            "  inflating: /content/Data for test/Sofa/Armen Living Hope Contemporary Sofa in Genuine Dove Grey Leather with Black Metal Legs.jpg  \n",
            "  inflating: /content/Data for test/Sofa/Armen Living Hudson Mid-Century Button-Tufted Sofa in Beige Linen and Walnut Legs.jpg  \n",
            "  inflating: /content/Data for test/Sofa/Armen Living Hudson Mid-Century Button-Tufted Sofa in Dark Gray Linen and Walnut Legs.jpg  \n",
            "  inflating: /content/Data for test/Sofa/Armen Living Jedd Contemporary Chair in Genuine Black Leather with Brown Wood Legs.jpg  \n",
            "  inflating: /content/Data for test/Sofa/Armen Living Jedd Contemporary Sofa in Genuine Black Leather with Brown Wood Legs.jpg  \n",
            "  inflating: /content/Data for test/Sofa/Armen Living Odyssey Sofa Chair in Brushed Stainless Steel finish with Grey Tweed and Black Nail heads.jpg  \n",
            "  inflating: /content/Data for test/Sofa/Armen Living Odyssey Sofa in Brushed Stainless Steel finish with Grey Tweed and Black Nail heads.jpg  \n",
            "  inflating: /content/Data for test/Sofa/Armen Living Palisade Contemporary Sofa in Blue Velvet with Brown Wood Legs.jpg  \n",
            "  inflating: /content/Data for test/Sofa/Armen Living Palisade Contemporary Sofa in Grey Velvet with Brown Wood Legs.jpg  \n",
            "  inflating: /content/Data for test/Sofa/Armen Living Palisade Transitional Sofa in Sand Fabric with Brown Legs.jpg  \n",
            "  inflating: /content/Data for test/Sofa/Armen Living Phantom Mid-Century Modern Sofa in Dark Gray Linen and Walnut Legs.jpg  \n",
            "  inflating: /content/Data for test/Sofa/Armen Living Regis Contemporary Sofa in Grey Fabric with Black Metal Finish Legs and Antique Brown Nailhead Accents.jpg  \n",
            "  inflating: /content/Data for test/Sofa/Armen Living Regis Cream Sofa With Pine Frame And Gunmetal Legs.jpg  \n",
            "  inflating: /content/Data for test/Sofa/Armen Living Royce Contemporary Sofa with Polished Stainless Steel and Grey Fabric.jpg  \n",
            "  inflating: /content/Data for test/Sofa/Armen Living Skyline Sofa In White Bonded Leather.jpg  \n",
            "  inflating: /content/Data for test/Sofa/Armen Living Winston Antique Blue Bonded Leather Sofa Chair.jpg  \n",
            "  inflating: /content/Data for test/Sofa/Armen Living Winston Antique Blue Bonded Leather Sofa.jpg  \n",
            "  inflating: /content/Data for test/Sofa/Armen Living Wynne Contemporary Sofa in Genuine Black Leather with Brown Wood Legs.jpg  \n",
            "  inflating: /content/Data for test/Sofa/Armen Living Wynne Contemporary Sofa in Genuine Espresso Leather with Brown Wood Legs.jpg  \n",
            "  inflating: /content/Data for test/Sofa/Armen Living Zanna Contemporary Sofa in Genuine Dark Brown Leather with Brown Wood Legs.jpg  \n",
            "  inflating: /content/Data for test/Sofa/Arno Blush Sofa.jpg  \n",
            "  inflating: /content/Data for test/Sofa/Artena 3 Seater Sofa.jpg  \n",
            "  inflating: /content/Data for test/Sofa/Arti Grey Velvet Loveseat.jpg  \n",
            "  inflating: /content/Data for test/Sofa/Ascoli Lounge Sofa.jpg  \n",
            "  inflating: /content/Data for test/Sofa/Asta Sofa-98-Fedora Pewter.jpg  \n",
            "  inflating: /content/Data for test/Sofa/ASTORIA FOLDABLE FUTON BED.jpg  \n",
            "  inflating: /content/Data for test/Sofa/Atlantic Sofa.jpg  \n",
            "  inflating: /content/Data for test/Sofa/AUGUSTINE SOFA.jpg  \n",
            "  inflating: /content/Data for test/Sofa/Augustine Sofa-97-Deacon Wolf.jpg  \n",
            "  inflating: /content/Data for test/Sofa/Augustine Sofa-97-Dover Crescent.jpg  \n",
            "  inflating: /content/Data for test/Sofa/Augustine Sofa-97-Hudson Lager.jpg  \n",
            "  inflating: /content/Data for test/Sofa/Augustine Sofa-97-Orly Natural.jpg  \n",
            "  inflating: /content/Data for test/Sofa/Augustine Sofa-97-Sapphire Navy.jpg  \n",
            "  inflating: /content/Data for test/Sofa/Aura Outdoor Patio Wicker Rattan Sofa.jpg  \n",
            "  inflating: /content/Data for test/Sofa/Avalon Sofa.jpg  \n",
            "  inflating: /content/Data for test/Sofa/Bag Sofa Velvet Anthracite.jpg  \n",
            "  inflating: /content/Data for test/Sofa/Bag Sofa Velvet Green(1).jpg  \n",
            "  inflating: /content/Data for test/Sofa/Bag sofa velvet green.jpg  \n",
            "  inflating: /content/Data for test/Sofa/Bag Sofa Velvet Pink.jpg  \n",
            "  inflating: /content/Data for test/Sofa/Bag Sofa Velvet Sand.jpg  \n",
            "  inflating: /content/Data for test/Sofa/Baxton Studio Adalynn Modern and Contemporary White Faux Leather Upholstered Sectional Sofa.jpg  \n",
            "  inflating: /content/Data for test/Sofa/Baxton Studio Adalynn Modern and Contemporary White Faux Leather Upholstered Sofa.jpg  \n",
            "  inflating: /content/Data for test/Sofa/Baxton Studio Agnes French Provincial Beige Linen Fabric Upholstered and White-Washed Oak Wood Sofa.jpg  \n",
            "  inflating: /content/Data for test/Sofa/Baxton Studio Agnew Contemporary Light Beige Microfiber Right Facing Sectional Sofa.jpg  \n",
            "  inflating: /content/Data for test/Sofa/Baxton Studio Alaise Modern Classic Beige Linen Tufted Scroll Arm Chesterfield Sofa.jpg  \n",
            "  inflating: /content/Data for test/Sofa/Baxton Studio Alaise Modern Classic Grey Linen Tufted Scroll Arm Chesterfield Sofa.jpg  \n",
            "  inflating: /content/Data for test/Sofa/Baxton Studio Allister Mid-Century Modern Dark Grey Fabric Upholstered 2-Piece Living Room Set.jpg  \n",
            "  inflating: /content/Data for test/Sofa/Baxton Studio Allister Mid-Century Modern Dark Grey Fabric Upholstered Sofa.jpg  \n",
            "  inflating: /content/Data for test/Sofa/Baxton Studio Allister Mid-Century Modern Light Grey Fabric Upholstered 2-Piece Living Room Set.jpg  \n",
            "  inflating: /content/Data for test/Sofa/Baxton Studio Allister Mid-Century Modern Light Grey Fabric Upholstered Sofa.jpg  \n",
            "  inflating: /content/Data for test/Sofa/Baxton Studio Ally Modern and Contemporary Beige Fabric Upholstered Twin Size Sofa Daybed with Roll Out Trundle Guest Bed.jpg  \n",
            "  inflating: /content/Data for test/Sofa/Baxton Studio Ally Modern and Contemporary Charcoal Fabric Upholstered Twin Size Sofa Daybed with Roll Out Trundle Guest Bed.jpg  \n",
            "  inflating: /content/Data for test/Sofa/Baxton Studio Ally Modern and Contemporary Grey Fabric Upholstered Twin Size Sofa Daybed with Roll Out Trundle Guest Bed.jpg  \n",
            "  inflating: /content/Data for test/Sofa/Baxton Studio Amaris Modern and Contemporary Black Bonded Leather 5-Piece Power Reclining Sectional Sofa with USB Ports.jpg  \n",
            "  inflating: /content/Data for test/Sofa/Baxton Studio Amaris Modern and Contemporary Grey Bonded Leather 5-Piece Power Reclining Sectional Sofa with USB Ports.jpg  \n",
            "  inflating: /content/Data for test/Sofa/Baxton Studio Ambra Glam and Luxe Grey Velvet Fabric Upholstered and Button Tufted Sofa with Gold-Tone Frame.jpg  \n",
            "  inflating: /content/Data for test/Sofa/Baxton Studio Ambra Glam and Luxe Royal Blue Velvet Fabric Upholstered and Button Tufted Gold Sofa with Gold-Tone Frame.jpg  \n",
            "  inflating: /content/Data for test/Sofa/Baxton Studio Arcadia Modern and Contemporary Grey Fabric Upholstered Button-Tufted Living Room 3-Seater Sofa.jpg  \n",
            "  inflating: /content/Data for test/Sofa/Baxton Studio Arcadia Modern and Contemporary Light Beige Fabric Upholstered Button-Tufted Living Room 3-Seater Sofa.jpg  \n",
            "  inflating: /content/Data for test/Sofa/Winslow Modern and Contemporary Blue Fabric Upholstered 2-Piece Left Facing Sectional.jpg  \n"
          ]
        }
      ]
    },
    {
      "cell_type": "code",
      "source": [
        "# # this renames all the files into a standard format\n",
        "# # define the paths to the input dataset\n",
        "\n",
        "# input_path = \"/content/Data for test\"\n",
        "\n",
        "# # loop over the bed, chair, and sofa folders in the input directory\n",
        "# for folder_name in [\"Bed\", \"Chair\", \"Sofa\"]:\n",
        "#     folder_path = os.path.join(input_path, folder_name)\n",
        "#     # loop over the files in the folder\n",
        "#     for i, file_name in enumerate(os.listdir(folder_path)):\n",
        "#         file_path = os.path.join(folder_path, file_name)\n",
        "#         # generate the new file name by appending the folder name and a number\n",
        "#         new_file_name = folder_name.lower() + \"_\" + str(i + 1) + \".jpg\"\n",
        "#         new_file_path = os.path.join(folder_path, new_file_name)\n",
        "#         # rename the file with the new name\n",
        "#         os.rename(file_path, new_file_path)"
      ],
      "metadata": {
        "id": "aowiHHaS4xgO"
      },
      "execution_count": null,
      "outputs": []
    },
    {
      "cell_type": "markdown",
      "source": [
        "### Splitting the data into training, testing, and validation sets <a name = 'Splitting-the-data-into-training-, testing-, and validation-sets'></a>"
      ],
      "metadata": {
        "id": "k3v3hYfHFu_8"
      }
    },
    {
      "cell_type": "code",
      "source": [
        "train_datagen = ImageDataGenerator(\n",
        "    rescale=1./255,\n",
        "    shear_range=0.2,\n",
        "    zoom_range=0.2,\n",
        "    horizontal_flip=True,\n",
        "    validation_split=0.3)\n",
        "\n",
        "val_datagen = ImageDataGenerator(rescale=1./255)\n",
        "\n",
        "train_generator = train_datagen.flow_from_directory(\n",
        "    \"/content/Data for test\",\n",
        "    target_size=(224, 224),\n",
        "    batch_size=32,\n",
        "    class_mode='categorical',\n",
        "    subset='training')\n",
        "\n",
        "validation_generator = train_datagen.flow_from_directory(\n",
        "    \"/content/Data for test\",\n",
        "    target_size=(224, 224),\n",
        "    batch_size=32,\n",
        "    class_mode='categorical',\n",
        "    subset='validation')"
      ],
      "metadata": {
        "colab": {
          "base_uri": "https://localhost:8080/"
        },
        "id": "EbnAcTDQ4xji",
        "outputId": "e82dee89-8d84-4587-92d4-65b717959a2a"
      },
      "execution_count": null,
      "outputs": [
        {
          "output_type": "stream",
          "name": "stdout",
          "text": [
            "Found 210 images belonging to 3 classes.\n",
            "Found 90 images belonging to 3 classes.\n"
          ]
        }
      ]
    },
    {
      "cell_type": "markdown",
      "source": [
        "This code defines two generators for image data, train_datagen and val_datagen, which are used for data preprocessing and augmentation in a machine learning pipeline.\n",
        "\n",
        "The train_datagen generator applies various transformations to input images during training, such as rescaling pixel values, shearing, zooming, and flipping. It also splits the data into 70% training and 30% validation sets.\n",
        "\n",
        "val_datagen is a simpler generator that only rescales pixel values.\n",
        "\n",
        "train_generator and validation_generator are created using flow_from_directory, which generates batches of augmented and preprocessed images on the fly for training and validation. The generators take the image data directory, target image size, batch size, and label type as input."
      ],
      "metadata": {
        "id": "u0SQHVLyBzpo"
      }
    },
    {
      "cell_type": "markdown",
      "source": [
        "### Building the CNN Model Architecture <a name = 'Building-the-CNN-Model-Architecture'></a>"
      ],
      "metadata": {
        "id": "6xceVs-PFhrR"
      }
    },
    {
      "cell_type": "code",
      "source": [
        "# define the model\n",
        "model = Sequential()\n",
        "model.add(Conv2D(32, (3, 3), activation='relu', input_shape=(224, 224, 3)))\n",
        "model.add(MaxPooling2D((2, 2)))\n",
        "model.add(Conv2D(64, (3, 3), activation='relu'))\n",
        "model.add(MaxPooling2D((2, 2)))\n",
        "model.add(Conv2D(128, (3, 3), activation='relu'))\n",
        "model.add(MaxPooling2D((2, 2)))\n",
        "model.add(Conv2D(128, (3, 3), activation='relu'))\n",
        "model.add(MaxPooling2D((2, 2)))\n",
        "model.add(Flatten())\n",
        "model.add(Dense(512, activation='relu'))\n",
        "model.add(Dense(3, activation='softmax'))\n",
        "\n",
        "# compile the model\n",
        "model.compile(optimizer='Adam',\n",
        "              loss='categorical_crossentropy',\n",
        "              metrics=['accuracy'])"
      ],
      "metadata": {
        "id": "x2crgm7GqXKJ"
      },
      "execution_count": null,
      "outputs": []
    },
    {
      "cell_type": "code",
      "source": [
        "model.summary()"
      ],
      "metadata": {
        "colab": {
          "base_uri": "https://localhost:8080/"
        },
        "id": "HyYvlbQCcpQJ",
        "outputId": "9ffc7e8f-e53c-46b6-8208-168e6b0de05a"
      },
      "execution_count": null,
      "outputs": [
        {
          "output_type": "stream",
          "name": "stdout",
          "text": [
            "Model: \"sequential\"\n",
            "_________________________________________________________________\n",
            " Layer (type)                Output Shape              Param #   \n",
            "=================================================================\n",
            " conv2d (Conv2D)             (None, 222, 222, 32)      896       \n",
            "                                                                 \n",
            " max_pooling2d (MaxPooling2D  (None, 111, 111, 32)     0         \n",
            " )                                                               \n",
            "                                                                 \n",
            " conv2d_1 (Conv2D)           (None, 109, 109, 64)      18496     \n",
            "                                                                 \n",
            " max_pooling2d_1 (MaxPooling  (None, 54, 54, 64)       0         \n",
            " 2D)                                                             \n",
            "                                                                 \n",
            " conv2d_2 (Conv2D)           (None, 52, 52, 128)       73856     \n",
            "                                                                 \n",
            " max_pooling2d_2 (MaxPooling  (None, 26, 26, 128)      0         \n",
            " 2D)                                                             \n",
            "                                                                 \n",
            " conv2d_3 (Conv2D)           (None, 24, 24, 128)       147584    \n",
            "                                                                 \n",
            " max_pooling2d_3 (MaxPooling  (None, 12, 12, 128)      0         \n",
            " 2D)                                                             \n",
            "                                                                 \n",
            " flatten (Flatten)           (None, 18432)             0         \n",
            "                                                                 \n",
            " dense (Dense)               (None, 512)               9437696   \n",
            "                                                                 \n",
            " dense_1 (Dense)             (None, 3)                 1539      \n",
            "                                                                 \n",
            "=================================================================\n",
            "Total params: 9,680,067\n",
            "Trainable params: 9,680,067\n",
            "Non-trainable params: 0\n",
            "_________________________________________________________________\n"
          ]
        }
      ]
    },
    {
      "cell_type": "markdown",
      "source": [
        "### Training the Model <a name = 'Training-the-Model'></a>"
      ],
      "metadata": {
        "id": "5bI3S45XFc09"
      }
    },
    {
      "cell_type": "code",
      "source": [
        "# train the model\n",
        "history = model.fit(train_generator, epochs=10, validation_data=validation_generator)\n"
      ],
      "metadata": {
        "colab": {
          "base_uri": "https://localhost:8080/"
        },
        "id": "ycKO3Lc9dpTc",
        "outputId": "d37dbb91-1f4f-4615-f60e-3836fe762711"
      },
      "execution_count": null,
      "outputs": [
        {
          "output_type": "stream",
          "name": "stdout",
          "text": [
            "Epoch 1/10\n",
            "7/7 [==============================] - 33s 3s/step - loss: 1.2027 - accuracy: 0.4190 - val_loss: 0.9030 - val_accuracy: 0.5667\n",
            "Epoch 2/10\n",
            "7/7 [==============================] - 19s 3s/step - loss: 0.7442 - accuracy: 0.6619 - val_loss: 0.6326 - val_accuracy: 0.7444\n",
            "Epoch 3/10\n",
            "7/7 [==============================] - 19s 3s/step - loss: 0.5100 - accuracy: 0.8095 - val_loss: 0.5406 - val_accuracy: 0.8444\n",
            "Epoch 4/10\n",
            "7/7 [==============================] - 18s 3s/step - loss: 0.4997 - accuracy: 0.8524 - val_loss: 0.6083 - val_accuracy: 0.7778\n",
            "Epoch 5/10\n",
            "7/7 [==============================] - 17s 3s/step - loss: 0.4195 - accuracy: 0.8286 - val_loss: 0.3857 - val_accuracy: 0.8222\n",
            "Epoch 6/10\n",
            "7/7 [==============================] - 19s 3s/step - loss: 0.2982 - accuracy: 0.8857 - val_loss: 0.6084 - val_accuracy: 0.7556\n",
            "Epoch 7/10\n",
            "7/7 [==============================] - 17s 3s/step - loss: 0.3726 - accuracy: 0.8619 - val_loss: 0.3957 - val_accuracy: 0.8222\n",
            "Epoch 8/10\n",
            "7/7 [==============================] - 20s 3s/step - loss: 0.2498 - accuracy: 0.9095 - val_loss: 0.7417 - val_accuracy: 0.8000\n",
            "Epoch 9/10\n",
            "7/7 [==============================] - 19s 3s/step - loss: 0.3345 - accuracy: 0.9000 - val_loss: 0.5281 - val_accuracy: 0.8222\n",
            "Epoch 10/10\n",
            "7/7 [==============================] - 17s 3s/step - loss: 0.1612 - accuracy: 0.9619 - val_loss: 0.6334 - val_accuracy: 0.8556\n"
          ]
        }
      ]
    },
    {
      "cell_type": "markdown",
      "source": [
        "### Evaluating the Model <a name = 'Evaluating-the-Model'></a>"
      ],
      "metadata": {
        "id": "dmUfpUlwC_BX"
      }
    },
    {
      "cell_type": "code",
      "source": [
        "# evaluate the model\n",
        "loss, accuracy = model.evaluate(validation_generator)\n",
        "print(\"Validation loss:\", loss)\n",
        "print(\"Validation accuracy:\", accuracy)"
      ],
      "metadata": {
        "colab": {
          "base_uri": "https://localhost:8080/"
        },
        "id": "i0dNm7E_qf3N",
        "outputId": "29813dcd-eaf0-418e-c466-b00f14ff320c"
      },
      "execution_count": null,
      "outputs": [
        {
          "output_type": "stream",
          "name": "stdout",
          "text": [
            "3/3 [==============================] - 5s 2s/step - loss: 0.4689 - accuracy: 0.8444\n",
            "Validation loss: 0.4688740670681\n",
            "Validation accuracy: 0.8444444537162781\n"
          ]
        }
      ]
    },
    {
      "cell_type": "code",
      "source": [
        "plt.plot(history.history['accuracy'],color='red',label='train')\n",
        "plt.plot(history.history['val_accuracy'],color='blue',label='validation')\n",
        "plt.legend()\n",
        "plt.show()"
      ],
      "metadata": {
        "colab": {
          "base_uri": "https://localhost:8080/",
          "height": 265
        },
        "id": "HuwAAAe4dnU3",
        "outputId": "4db0bd66-8711-450e-e960-6a0075b468f4"
      },
      "execution_count": null,
      "outputs": [
        {
          "output_type": "display_data",
          "data": {
            "text/plain": [
              "<Figure size 432x288 with 1 Axes>"
            ],
            "image/png": "[encoded data removed]"
          },
          "metadata": {
            "needs_background": "light"
          }
        }
      ]
    },
    {
      "cell_type": "markdown",
      "source": [
        "### Making Predictions and generating classification report <a name = 'Making-Predictions-and-generating-classification-report'></a>"
      ],
      "metadata": {
        "id": "HKBCL46CDHKR"
      }
    },
    {
      "cell_type": "code",
      "source": [
        "# make predictions on validation set\n",
        "y_pred = model.predict(validation_generator)\n",
        "\n",
        "# convert predictions from probabilities to class labels\n",
        "y_pred_labels = np.argmax(y_pred, axis=1)\n",
        "\n",
        "# get true labels\n",
        "y_true_labels = validation_generator.classes\n",
        "\n",
        "# generate classification report\n",
        "class_names = list(validation_generator.class_indices.keys())\n",
        "print(classification_report(y_true_labels, y_pred_labels, target_names=class_names))\n",
        "\n",
        "# generate confusion matrix\n",
        "conf_matrix = confusion_matrix(y_true_labels, y_pred_labels)\n",
        "print(conf_matrix)\n"
      ],
      "metadata": {
        "colab": {
          "base_uri": "https://localhost:8080/"
        },
        "id": "p9cb1FFtzjkY",
        "outputId": "456a3fca-b56b-45e3-f5de-daa4cdc57633"
      },
      "execution_count": null,
      "outputs": [
        {
          "output_type": "stream",
          "name": "stdout",
          "text": [
            "3/3 [==============================] - 5s 2s/step\n",
            "              precision    recall  f1-score   support\n",
            "\n",
            "         Bed       0.36      0.30      0.33        30\n",
            "       Chair       0.33      0.40      0.36        30\n",
            "        Sofa       0.24      0.23      0.24        30\n",
            "\n",
            "    accuracy                           0.31        90\n",
            "   macro avg       0.31      0.31      0.31        90\n",
            "weighted avg       0.31      0.31      0.31        90\n",
            "\n",
            "[[ 9 10 11]\n",
            " [ 7 12 11]\n",
            " [ 9 14  7]]\n"
          ]
        }
      ]
    },
    {
      "cell_type": "markdown",
      "source": [
        "### Saving the model <a name = 'Saving-the-model'></a>"
      ],
      "metadata": {
        "id": "iF6_vrfEDdGy"
      }
    },
    {
      "cell_type": "code",
      "source": [
        "# save the model\n",
        "model.save(\"image_classifier.h5\")"
      ],
      "metadata": {
        "id": "xV0JlBsPzjqy"
      },
      "execution_count": null,
      "outputs": []
    },
    {
      "cell_type": "markdown",
      "source": [
        "### Final thoughts <a name = 'Final-thoughts'></a>"
      ],
      "metadata": {
        "id": "IQoe1wotE9jO"
      }
    },
    {
      "cell_type": "markdown",
      "source": [
        "Overall I had fun working on this project beacause it introduced me to various topics and helped me get a practical introduction in my deep learning journey. I admit that this project is pretty basic, but it is my first project on deep learning. I will continue to do further projects on deep learning and applying other state of the art architectures. \n",
        "\n",
        "I also created a flask api and dockerized it. More informations can be found on my github page: https://github.com/MihirOjha/Furniture_classification_CNN"
      ],
      "metadata": {
        "id": "wDIId7D-J3gC"
      }
    },
    {
      "cell_type": "code",
      "source": [],
      "metadata": {
        "id": "xIowS9pZzjv2"
      },
      "execution_count": null,
      "outputs": []
    },
    {
      "cell_type": "code",
      "source": [],
      "metadata": {
        "id": "sLBbLVmMEbSe"
      },
      "execution_count": null,
      "outputs": []
    }
  ]
}